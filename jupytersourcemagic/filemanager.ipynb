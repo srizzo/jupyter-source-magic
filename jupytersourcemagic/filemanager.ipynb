{
 "cells": [
  {
   "cell_type": "code",
   "execution_count": 1,
   "metadata": {},
   "outputs": [],
   "source": [
    "from sourcemagics import SourceMagics\n",
    "get_ipython().register_magics(SourceMagics(get_ipython()))"
   ]
  },
  {
   "cell_type": "code",
   "execution_count": 2,
   "metadata": {},
   "outputs": [
    {
     "data": {
      "application/vnd.jupyter.widget-view+json": {
       "model_id": "e9f97234f2a24472a23ab7800d99ede2",
       "version_major": 2,
       "version_minor": 0
      },
      "text/plain": [
       "RWRpdG9yV2lkZ2V0KGNoaWxkcmVuPShIQm94KGNoaWxkcmVuPShPdXRwdXQoKSwgQnV0dG9uKGJ1dHRvbl9zdHlsZT11J2RhbmdlcicsIGRlc2NyaXB0aW9uPXUnT3ZlcndyaXRlJywgbGF5b3XigKY=\n"
      ]
     },
     "metadata": {},
     "output_type": "display_data"
    }
   ],
   "source": [
    "%%source filemanager.py\n",
    "import os\n",
    "import errno\n",
    "\n",
    "class FileManager(object):\n",
    "    def __init__(self):\n",
    "        super(FileManager, self).__init__()\n",
    "        self.managed_files = {}\n",
    "\n",
    "    def manage(self, path, contents):\n",
    "        self.managed_files[path] = {\n",
    "            \"mtime\" : os.path.getmtime(path),\n",
    "            \"digest\": self.digest(contents)\n",
    "        }\n",
    "\n",
    "    def read(self, path):\n",
    "        with open(path, 'r') as f:\n",
    "            return f.read()\n",
    "\n",
    "    def digest(self, contents):\n",
    "        return hash(contents)\n",
    "\n",
    "    def mkdir_p(self, path):\n",
    "        if path == \"\" or os.path.exists(path):\n",
    "            return\n",
    "        os.makedirs(path)\n",
    "\n",
    "    def file_exists(self, path):\n",
    "        return os.path.exists(path)\n",
    "\n",
    "    def same_contents(self, path, contents):\n",
    "        return self.read(path) == contents\n",
    "\n",
    "    def save(self, path, contents):\n",
    "        self.mkdir_p(os.path.dirname(path))\n",
    "        with open(path, \"w\") as file:\n",
    "            file.write(contents)\n",
    "        self.manage(path, contents)\n",
    "\n",
    "    def file_is_managed(self, path):\n",
    "        return path in self.managed_files.keys()\n",
    "\n",
    "    def is_file_in_sync(self, path):\n",
    "        if not self.file_is_managed(path):\n",
    "            return False\n",
    "        managed_file = self.managed_files[path]\n",
    "        if managed_file[\"mtime\"] == os.path.getmtime(path):\n",
    "            return True\n",
    "        return managed_file[\"digest\"] == self.digest(self.read(path))\n",
    "\n",
    "    def is_new_content(self, path, current_contents):\n",
    "        managed_file = self.managed_files[path]\n",
    "        return managed_file[\"digest\"] != self.digest(current_contents)\n",
    "\n",
    "    def is_file_in_sync_new_content(self, path, current_contents):\n",
    "        return self.file_exists(path) and \\\n",
    "               self.is_file_in_sync(path) and \\\n",
    "               self.is_new_content(path, current_contents)\n",
    "\n",
    "    def is_file_in_sync_unchanged_content(self, path, current_contents):\n",
    "        return self.file_exists(path) and \\\n",
    "               self.is_file_in_sync(path) and \\\n",
    "               not self.is_new_content(path, current_contents)\n",
    "\n",
    "    def is_new_file(self, path):\n",
    "        return not self.file_is_managed(path) and \\\n",
    "               not self.file_exists(path)\n",
    "\n",
    "    def is_file_exists_with_same_contents(self, path, current_contents):\n",
    "        return not self.file_is_managed(path) and \\\n",
    "               self.file_exists(path) and \\\n",
    "               self.same_contents(path, current_contents)\n",
    "\n",
    "    def is_overwrite_existing_file(self, path, current_contents):\n",
    "        return not self.file_is_managed(path) and \\\n",
    "               self.file_exists(path) and \\\n",
    "               not self.same_contents(path, current_contents)\n",
    "\n",
    "    def is_file_was_changed_by_another_process(self, path, current_contents):\n",
    "        return self.file_is_managed(path) and \\\n",
    "               self.file_exists(path) and \\\n",
    "               not self.is_file_in_sync(path)\n",
    "\n",
    "    def is_managed_file_was_deleted(self, path):\n",
    "        return self.file_is_managed(path) and \\\n",
    "               not self.file_exists(path)\n",
    "\n",
    "    def is_file_was_deleted(self, path):\n",
    "        return not self.file_exists(path)\n",
    "\n",
    "    def is_unmanaged_file_exists(self, path):\n",
    "        return not self.file_is_managed(path) and \\\n",
    "               self.file_exists(path)\n",
    "\n",
    "    def get_initial_state(self, path, current_contents):\n",
    "        if self.is_file_in_sync_new_content(path, current_contents): return \"In sync, new content\"\n",
    "        if self.is_file_in_sync_unchanged_content(path, current_contents): return \"In sync, unchanged content\"\n",
    "        if self.is_new_file(path): return \"New file\"\n",
    "        if self.is_file_exists_with_same_contents(path, current_contents): return \"File exists with same contents\"\n",
    "        if self.is_overwrite_existing_file(path, current_contents): return \"File exists with different contents\"\n",
    "        if self.is_file_was_changed_by_another_process(path, current_contents): return \"File was changed by another process\"\n",
    "        if self.is_managed_file_was_deleted(path): return \"File was deleted by another process\"\n",
    "        raise Exception(\"Unknown State\")\n",
    "\n",
    "    def get_state_change(self, path, current_contents):\n",
    "        if self.is_file_in_sync_unchanged_content(path, current_contents): return \"In sync, unchanged content\"\n",
    "        if self.is_file_was_changed_by_another_process(path, current_contents): return \"File was changed by another process\"\n",
    "        if self.is_file_was_deleted(path): return \"File was deleted by another process\"\n",
    "        if self.is_unmanaged_file_exists(path): return \"File exists at this path\"\n"
   ]
  },
  {
   "cell_type": "code",
   "execution_count": 3,
   "metadata": {},
   "outputs": [],
   "source": [
    "def assert_equal(expected, actual):\n",
    "    assert expected == actual, actual\n",
    "    return expected"
   ]
  },
  {
   "cell_type": "code",
   "execution_count": 4,
   "metadata": {},
   "outputs": [],
   "source": [
    "!rm -rf tmp\n",
    "self = FileManager()"
   ]
  },
  {
   "cell_type": "code",
   "execution_count": 5,
   "metadata": {},
   "outputs": [
    {
     "data": {
      "text/plain": [
       "'In sync, new content'"
      ]
     },
     "execution_count": 5,
     "metadata": {},
     "output_type": "execute_result"
    }
   ],
   "source": [
    "self.save(\"tmp/managed_file.txt\", \"managed contents\")\n",
    "assert_equal(\"In sync, new content\", self.get_initial_state(\"tmp/managed_file.txt\", \"new contents\"))"
   ]
  },
  {
   "cell_type": "code",
   "execution_count": 6,
   "metadata": {},
   "outputs": [
    {
     "data": {
      "text/plain": [
       "'In sync, unchanged content'"
      ]
     },
     "execution_count": 6,
     "metadata": {},
     "output_type": "execute_result"
    }
   ],
   "source": [
    "self.save(\"tmp/managed_file.txt\", \"managed contents\")\n",
    "assert_equal(\"In sync, unchanged content\", self.get_initial_state(\"tmp/managed_file.txt\", \"managed contents\"))"
   ]
  },
  {
   "cell_type": "code",
   "execution_count": 7,
   "metadata": {},
   "outputs": [
    {
     "data": {
      "text/plain": [
       "'New file'"
      ]
     },
     "execution_count": 7,
     "metadata": {},
     "output_type": "execute_result"
    }
   ],
   "source": [
    "assert_equal(\"New file\", self.get_initial_state(\"tmp/new_file.txt\", \"contents\"))"
   ]
  },
  {
   "cell_type": "code",
   "execution_count": 8,
   "metadata": {},
   "outputs": [
    {
     "data": {
      "text/plain": [
       "'File exists with same contents'"
      ]
     },
     "execution_count": 8,
     "metadata": {},
     "output_type": "execute_result"
    }
   ],
   "source": [
    "!mkdir -p tmp && echo contents > tmp/existing_file.txt\n",
    "assert_equal(\"File exists with same contents\", self.get_initial_state(\"tmp/existing_file.txt\", \"contents\\n\"))"
   ]
  },
  {
   "cell_type": "code",
   "execution_count": 9,
   "metadata": {},
   "outputs": [
    {
     "data": {
      "text/plain": [
       "'File exists with different contents'"
      ]
     },
     "execution_count": 9,
     "metadata": {},
     "output_type": "execute_result"
    }
   ],
   "source": [
    "!mkdir -p tmp && echo contents > tmp/existing_file.txt\n",
    "assert_equal(\"File exists with different contents\", self.get_initial_state(\"tmp/existing_file.txt\", \"different contents\\n\"))"
   ]
  },
  {
   "cell_type": "code",
   "execution_count": 10,
   "metadata": {},
   "outputs": [
    {
     "data": {
      "text/plain": [
       "'File was changed by another process'"
      ]
     },
     "execution_count": 10,
     "metadata": {},
     "output_type": "execute_result"
    }
   ],
   "source": [
    "self.save(\"tmp/managed_file.txt\", \"managed contents\")\n",
    "!echo changed > tmp/managed_file.txt\n",
    "assert_equal(\"File was changed by another process\", self.get_state_change(\"tmp/managed_file.txt\", \"managed contents\"))"
   ]
  },
  {
   "cell_type": "code",
   "execution_count": 11,
   "metadata": {},
   "outputs": [
    {
     "data": {
      "text/plain": [
       "'File was deleted by another process'"
      ]
     },
     "execution_count": 11,
     "metadata": {},
     "output_type": "execute_result"
    }
   ],
   "source": [
    "self.save(\"tmp/managed_file.txt\", \"managed contents\")\n",
    "!rm tmp/managed_file.txt\n",
    "assert_equal(\"File was deleted by another process\", self.get_state_change(\"tmp/managed_file.txt\", \"managed contents\"))"
   ]
  }
 ],
 "metadata": {
  "kernelspec": {
   "display_name": "Python 2",
   "language": "python",
   "name": "python2"
  },
  "language_info": {
   "codemirror_mode": {
    "name": "ipython",
    "version": 2
   },
   "file_extension": ".py",
   "mimetype": "text/x-python",
   "name": "python",
   "nbconvert_exporter": "python",
   "pygments_lexer": "ipython2",
   "version": "2.7.15"
  }
 },
 "nbformat": 4,
 "nbformat_minor": 2
}
