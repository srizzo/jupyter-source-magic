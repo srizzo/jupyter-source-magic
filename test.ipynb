{
 "cells": [
  {
   "cell_type": "code",
   "execution_count": 1,
   "metadata": {},
   "outputs": [],
   "source": [
    "%load_ext jupytersourcemagic"
   ]
  },
  {
   "cell_type": "code",
   "execution_count": 2,
   "metadata": {},
   "outputs": [],
   "source": [
    "!rm -rf tmp\n",
    "!mkdir tmp"
   ]
  },
  {
   "cell_type": "markdown",
   "metadata": {},
   "source": [
    "## Create New file"
   ]
  },
  {
   "cell_type": "code",
   "execution_count": 3,
   "metadata": {},
   "outputs": [
    {
     "data": {
      "application/vnd.jupyter.widget-view+json": {
       "model_id": "323c43f1df9d4497b93b9172203b39d2",
       "version_major": 2,
       "version_minor": 0
      },
      "text/plain": [
       "RWRpdG9yV2lkZ2V0KGNoaWxkcmVuPShIQm94KGNoaWxkcmVuPShPdXRwdXQoKSwgQnV0dG9uKGJ1dHRvbl9zdHlsZT11J2RhbmdlcicsIGRlc2NyaXB0aW9uPXUnT3ZlcndyaXRlJywgbGF5b3XigKY=\n"
      ]
     },
     "metadata": {},
     "output_type": "display_data"
    }
   ],
   "source": [
    "%%source tmp/new_file.py\n",
    "print('Ok')"
   ]
  },
  {
   "cell_type": "markdown",
   "metadata": {},
   "source": [
    "### --no-eval"
   ]
  },
  {
   "cell_type": "code",
   "execution_count": 4,
   "metadata": {},
   "outputs": [
    {
     "data": {
      "application/vnd.jupyter.widget-view+json": {
       "model_id": "b645dafc3729405a80402f2e06259ae3",
       "version_major": 2,
       "version_minor": 0
      },
      "text/plain": [
       "RWRpdG9yV2lkZ2V0KGNoaWxkcmVuPShIQm94KGNoaWxkcmVuPShPdXRwdXQoKSwgQnV0dG9uKGJ1dHRvbl9zdHlsZT11J2RhbmdlcicsIGRlc2NyaXB0aW9uPXUnT3ZlcndyaXRlJywgbGF5b3XigKY=\n"
      ]
     },
     "metadata": {},
     "output_type": "display_data"
    }
   ],
   "source": [
    "%%source tmp/new_file.txt --no-eval\n",
    "Ok"
   ]
  },
  {
   "cell_type": "markdown",
   "metadata": {},
   "source": [
    "### with magic"
   ]
  },
  {
   "cell_type": "code",
   "execution_count": 5,
   "metadata": {},
   "outputs": [
    {
     "data": {
      "application/vnd.jupyter.widget-view+json": {
       "model_id": "7e1925db73604c9584eeef90bfb97b42",
       "version_major": 2,
       "version_minor": 0
      },
      "text/plain": [
       "RWRpdG9yV2lkZ2V0KGNoaWxkcmVuPShIQm94KGNoaWxkcmVuPShPdXRwdXQoKSwgQnV0dG9uKGJ1dHRvbl9zdHlsZT11J2RhbmdlcicsIGRlc2NyaXB0aW9uPXUnT3ZlcndyaXRlJywgbGF5b3XigKY=\n"
      ]
     },
     "metadata": {},
     "output_type": "display_data"
    }
   ],
   "source": [
    "%%source tmp/new_file.sh\n",
    "%%time\n",
    "%%bash\n",
    "echo Ok"
   ]
  },
  {
   "cell_type": "code",
   "execution_count": 6,
   "metadata": {},
   "outputs": [
    {
     "name": "stdout",
     "output_type": "stream",
     "text": [
      "echo Ok\r\n"
     ]
    }
   ],
   "source": [
    "!cat tmp/new_file.sh"
   ]
  },
  {
   "cell_type": "markdown",
   "metadata": {},
   "source": [
    "## Managed, same contents"
   ]
  },
  {
   "cell_type": "code",
   "execution_count": 7,
   "metadata": {},
   "outputs": [
    {
     "data": {
      "application/vnd.jupyter.widget-view+json": {
       "model_id": "c4c0427ad4084d689339b9fdefe82c34",
       "version_major": 2,
       "version_minor": 0
      },
      "text/plain": [
       "RWRpdG9yV2lkZ2V0KGNoaWxkcmVuPShIQm94KGNoaWxkcmVuPShPdXRwdXQoKSwgQnV0dG9uKGJ1dHRvbl9zdHlsZT11J2RhbmdlcicsIGRlc2NyaXB0aW9uPXUnT3ZlcndyaXRlJywgbGF5b3XigKY=\n"
      ]
     },
     "metadata": {},
     "output_type": "display_data"
    }
   ],
   "source": [
    "%%source tmp/managed_file_same_contents.py\n",
    "print('Ok')"
   ]
  },
  {
   "cell_type": "code",
   "execution_count": 8,
   "metadata": {},
   "outputs": [
    {
     "data": {
      "application/vnd.jupyter.widget-view+json": {
       "model_id": "0ba8fb04589540419d84354bd74c35b4",
       "version_major": 2,
       "version_minor": 0
      },
      "text/plain": [
       "RWRpdG9yV2lkZ2V0KGNoaWxkcmVuPShIQm94KGNoaWxkcmVuPShPdXRwdXQoKSwgQnV0dG9uKGJ1dHRvbl9zdHlsZT11J2RhbmdlcicsIGRlc2NyaXB0aW9uPXUnT3ZlcndyaXRlJywgbGF5b3XigKY=\n"
      ]
     },
     "metadata": {},
     "output_type": "display_data"
    }
   ],
   "source": [
    "%%source tmp/managed_file_same_contents.py\n",
    "print('Ok')"
   ]
  },
  {
   "cell_type": "markdown",
   "metadata": {},
   "source": [
    "## Managed, different contents"
   ]
  },
  {
   "cell_type": "code",
   "execution_count": 9,
   "metadata": {},
   "outputs": [
    {
     "data": {
      "application/vnd.jupyter.widget-view+json": {
       "model_id": "7afc125a6ca24c78a2f1f248ae48dfce",
       "version_major": 2,
       "version_minor": 0
      },
      "text/plain": [
       "RWRpdG9yV2lkZ2V0KGNoaWxkcmVuPShIQm94KGNoaWxkcmVuPShPdXRwdXQoKSwgQnV0dG9uKGJ1dHRvbl9zdHlsZT11J2RhbmdlcicsIGRlc2NyaXB0aW9uPXUnT3ZlcndyaXRlJywgbGF5b3XigKY=\n"
      ]
     },
     "metadata": {},
     "output_type": "display_data"
    }
   ],
   "source": [
    "%%source tmp/managed_file_different_contents.py\n",
    "print(\"Ok [Previous]\")"
   ]
  },
  {
   "cell_type": "code",
   "execution_count": 10,
   "metadata": {},
   "outputs": [
    {
     "data": {
      "application/vnd.jupyter.widget-view+json": {
       "model_id": "e4be6db08ef34a96a9032060f516048e",
       "version_major": 2,
       "version_minor": 0
      },
      "text/plain": [
       "RWRpdG9yV2lkZ2V0KGNoaWxkcmVuPShIQm94KGNoaWxkcmVuPShPdXRwdXQoKSwgQnV0dG9uKGJ1dHRvbl9zdHlsZT11J2RhbmdlcicsIGRlc2NyaXB0aW9uPXUnT3ZlcndyaXRlJywgbGF5b3XigKY=\n"
      ]
     },
     "metadata": {},
     "output_type": "display_data"
    }
   ],
   "source": [
    "%%source tmp/managed_file_different_contents.py\n",
    "print(\"Ok\")"
   ]
  },
  {
   "cell_type": "markdown",
   "metadata": {},
   "source": [
    "## File exists with same contents"
   ]
  },
  {
   "cell_type": "code",
   "execution_count": 11,
   "metadata": {},
   "outputs": [],
   "source": [
    "!echo \"print('Ok')\" > tmp/existing_file_same_contents.py"
   ]
  },
  {
   "cell_type": "code",
   "execution_count": 12,
   "metadata": {},
   "outputs": [
    {
     "data": {
      "application/vnd.jupyter.widget-view+json": {
       "model_id": "3a90bf68881c44d78a84cd0829805ed9",
       "version_major": 2,
       "version_minor": 0
      },
      "text/plain": [
       "RWRpdG9yV2lkZ2V0KGNoaWxkcmVuPShIQm94KGNoaWxkcmVuPShPdXRwdXQoKSwgQnV0dG9uKGJ1dHRvbl9zdHlsZT11J2RhbmdlcicsIGRlc2NyaXB0aW9uPXUnT3ZlcndyaXRlJywgbGF5b3XigKY=\n"
      ]
     },
     "metadata": {},
     "output_type": "display_data"
    }
   ],
   "source": [
    "%%source tmp/existing_file_same_contents.py\n",
    "print('Ok')"
   ]
  },
  {
   "cell_type": "markdown",
   "metadata": {},
   "source": [
    "## File is changed by another process"
   ]
  },
  {
   "cell_type": "code",
   "execution_count": 13,
   "metadata": {},
   "outputs": [
    {
     "data": {
      "application/vnd.jupyter.widget-view+json": {
       "model_id": "473ee1d8bfb340fe87caa9d1325f0d20",
       "version_major": 2,
       "version_minor": 0
      },
      "text/plain": [
       "RWRpdG9yV2lkZ2V0KGNoaWxkcmVuPShIQm94KGNoaWxkcmVuPShPdXRwdXQoKSwgQnV0dG9uKGJ1dHRvbl9zdHlsZT11J2RhbmdlcicsIGRlc2NyaXB0aW9uPXUnT3ZlcndyaXRlJywgbGF5b3XigKY=\n"
      ]
     },
     "metadata": {},
     "output_type": "display_data"
    }
   ],
   "source": [
    "%%source tmp/managed_changed_file.py -p 0\n",
    "print(\"Ok [original]\")"
   ]
  },
  {
   "cell_type": "code",
   "execution_count": 14,
   "metadata": {},
   "outputs": [],
   "source": [
    "!echo \"print('Ok [changed]')\" > tmp/managed_changed_file.py"
   ]
  },
  {
   "cell_type": "markdown",
   "metadata": {},
   "source": [
    "### --keep-both"
   ]
  },
  {
   "cell_type": "code",
   "execution_count": 15,
   "metadata": {},
   "outputs": [
    {
     "data": {
      "application/vnd.jupyter.widget-view+json": {
       "model_id": "f1fb769cfda34a4584b9563e6fb47367",
       "version_major": 2,
       "version_minor": 0
      },
      "text/plain": [
       "RWRpdG9yV2lkZ2V0KGNoaWxkcmVuPShIQm94KGNoaWxkcmVuPShPdXRwdXQoKSwgQnV0dG9uKGJ1dHRvbl9zdHlsZT11J2RhbmdlcicsIGRlc2NyaXB0aW9uPXUnT3ZlcndyaXRlJywgbGF5b3XigKY=\n"
      ]
     },
     "metadata": {},
     "output_type": "display_data"
    }
   ],
   "source": [
    "%%source tmp/managed_changed_file.py -p 0 --keep-both\n",
    "print(\"Ok\")"
   ]
  },
  {
   "cell_type": "markdown",
   "metadata": {},
   "source": [
    "### --abort"
   ]
  },
  {
   "cell_type": "code",
   "execution_count": 16,
   "metadata": {},
   "outputs": [
    {
     "data": {
      "application/vnd.jupyter.widget-view+json": {
       "model_id": "19e8def605914f0eb7dfbc0d8d2fa396",
       "version_major": 2,
       "version_minor": 0
      },
      "text/plain": [
       "RWRpdG9yV2lkZ2V0KGNoaWxkcmVuPShIQm94KGNoaWxkcmVuPShPdXRwdXQoKSwgQnV0dG9uKGJ1dHRvbl9zdHlsZT11J2RhbmdlcicsIGRlc2NyaXB0aW9uPXUnT3ZlcndyaXRlJywgbGF5b3XigKY=\n"
      ]
     },
     "metadata": {},
     "output_type": "display_data"
    }
   ],
   "source": [
    "%%source tmp/managed_changed_file.py -p 0 --abort\n",
    "print(\"Abort\")"
   ]
  },
  {
   "cell_type": "markdown",
   "metadata": {},
   "source": [
    "### --prompt"
   ]
  },
  {
   "cell_type": "code",
   "execution_count": null,
   "metadata": {},
   "outputs": [],
   "source": [
    "%%source tmp/managed_changed_file.py -p 0 --prompt\n",
    "print(\"Prompt\")"
   ]
  },
  {
   "cell_type": "markdown",
   "metadata": {},
   "source": [
    "### --overwrite-existing"
   ]
  },
  {
   "cell_type": "code",
   "execution_count": null,
   "metadata": {},
   "outputs": [],
   "source": [
    "%%source tmp/managed_changed_file.py -p 0 --overwrite-existing\n",
    "print(\"Ok\")"
   ]
  },
  {
   "cell_type": "markdown",
   "metadata": {},
   "source": [
    "## File was deleted by another process"
   ]
  },
  {
   "cell_type": "code",
   "execution_count": null,
   "metadata": {},
   "outputs": [],
   "source": [
    "%%source tmp/managed_deleted_file.py -p 0\n",
    "print(\"Ok [original]\")"
   ]
  },
  {
   "cell_type": "code",
   "execution_count": null,
   "metadata": {},
   "outputs": [],
   "source": [
    "!rm tmp/managed_deleted_file.py"
   ]
  },
  {
   "cell_type": "code",
   "execution_count": null,
   "metadata": {},
   "outputs": [],
   "source": [
    "%%source tmp/managed_deleted_file.py -p 0 --keep-both\n",
    "print(\"Ok [original]\")"
   ]
  },
  {
   "cell_type": "code",
   "execution_count": null,
   "metadata": {
    "scrolled": false
   },
   "outputs": [],
   "source": [
    "%%source tmp/managed_deleted_file.py -p 0 --prompt\n",
    "print(\"Ok [original]\")"
   ]
  },
  {
   "cell_type": "markdown",
   "metadata": {},
   "source": [
    "## File exists with different contents"
   ]
  },
  {
   "cell_type": "markdown",
   "metadata": {},
   "source": [
    "### --keep-both"
   ]
  },
  {
   "cell_type": "code",
   "execution_count": null,
   "metadata": {},
   "outputs": [],
   "source": [
    "!echo \"print('Error')\" > tmp/existing_file_different_contents_keep_both.py"
   ]
  },
  {
   "cell_type": "code",
   "execution_count": null,
   "metadata": {},
   "outputs": [],
   "source": [
    "%%source tmp/existing_file_different_contents_keep_both.py -p 0 --keep-both\n",
    "print('Run')"
   ]
  },
  {
   "cell_type": "markdown",
   "metadata": {},
   "source": [
    "### --overwrite-existing"
   ]
  },
  {
   "cell_type": "code",
   "execution_count": null,
   "metadata": {},
   "outputs": [],
   "source": [
    "!echo \"print('Error')\" > tmp/existing_file_different_contents_overwrite.py"
   ]
  },
  {
   "cell_type": "code",
   "execution_count": null,
   "metadata": {},
   "outputs": [],
   "source": [
    "%%source tmp/existing_file_different_contents_overwrite.py -p 0 --overwrite-existing\n",
    "print('Run')"
   ]
  },
  {
   "cell_type": "markdown",
   "metadata": {},
   "source": [
    "### --prompt"
   ]
  },
  {
   "cell_type": "code",
   "execution_count": null,
   "metadata": {},
   "outputs": [],
   "source": [
    "!echo \"print('Error')\" > tmp/existing_file_different_contents.py"
   ]
  },
  {
   "cell_type": "code",
   "execution_count": null,
   "metadata": {},
   "outputs": [],
   "source": [
    "%%source tmp/existing_file_different_contents.py -p 0\n",
    "print('Run')"
   ]
  },
  {
   "cell_type": "markdown",
   "metadata": {},
   "source": [
    "## External Modification"
   ]
  },
  {
   "cell_type": "markdown",
   "metadata": {},
   "source": [
    "### of managed source"
   ]
  },
  {
   "cell_type": "code",
   "execution_count": null,
   "metadata": {},
   "outputs": [],
   "source": [
    "%%source tmp/external_modification.py\n",
    "print('Original')\n"
   ]
  },
  {
   "cell_type": "code",
   "execution_count": null,
   "metadata": {},
   "outputs": [],
   "source": [
    "!echo \"print('Modified')\" > tmp/external_modification.py"
   ]
  },
  {
   "cell_type": "code",
   "execution_count": null,
   "metadata": {},
   "outputs": [],
   "source": [
    "!echo \"print('Original')\" > tmp/external_modification.py"
   ]
  },
  {
   "cell_type": "code",
   "execution_count": null,
   "metadata": {},
   "outputs": [],
   "source": [
    "!rm tmp/external_modification.py"
   ]
  },
  {
   "cell_type": "markdown",
   "metadata": {},
   "source": [
    "### of unmanaged source"
   ]
  },
  {
   "cell_type": "code",
   "execution_count": null,
   "metadata": {},
   "outputs": [],
   "source": [
    "!echo \"print('Error')\" > tmp/existing_file_external_modification.py"
   ]
  },
  {
   "cell_type": "code",
   "execution_count": null,
   "metadata": {},
   "outputs": [],
   "source": [
    "%%source tmp/existing_file_external_modification.py --keep-both\n",
    "print('Ok')"
   ]
  },
  {
   "cell_type": "code",
   "execution_count": null,
   "metadata": {},
   "outputs": [],
   "source": [
    "!echo \"print('Modified')\" > tmp/existing_file_external_modification.py"
   ]
  },
  {
   "cell_type": "code",
   "execution_count": null,
   "metadata": {},
   "outputs": [],
   "source": [
    "!rm tmp/existing_file_external_modification.py"
   ]
  }
 ],
 "metadata": {
  "kernelspec": {
   "display_name": "Python 2",
   "language": "python",
   "name": "python2"
  },
  "language_info": {
   "codemirror_mode": {
    "name": "ipython",
    "version": 2
   },
   "file_extension": ".py",
   "mimetype": "text/x-python",
   "name": "python",
   "nbconvert_exporter": "python",
   "pygments_lexer": "ipython2",
   "version": "2.7.15"
  }
 },
 "nbformat": 4,
 "nbformat_minor": 2
}
