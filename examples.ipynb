{
 "cells": [
  {
   "cell_type": "code",
   "execution_count": 1,
   "metadata": {},
   "outputs": [],
   "source": [
    "%load_ext jupytersourcemagic"
   ]
  },
  {
   "cell_type": "code",
   "execution_count": 13,
   "metadata": {},
   "outputs": [],
   "source": [
    "%%source?"
   ]
  },
  {
   "cell_type": "code",
   "execution_count": 2,
   "metadata": {},
   "outputs": [],
   "source": [
    "!rm -rf tmp\n",
    "!mkdir tmp"
   ]
  },
  {
   "cell_type": "markdown",
   "metadata": {},
   "source": [
    "### Edit / run code"
   ]
  },
  {
   "cell_type": "code",
   "execution_count": 3,
   "metadata": {
    "scrolled": true
   },
   "outputs": [
    {
     "data": {
      "application/vnd.jupyter.widget-view+json": {
       "model_id": "b27f8b8d14d14caa8de84c27869438e2",
       "version_major": 2,
       "version_minor": 0
      },
      "text/plain": [
       "RWRpdG9yV2lkZ2V0KGNoaWxkcmVuPShIQm94KGNoaWxkcmVuPShPdXRwdXQoKSwgQnV0dG9uKGJ1dHRvbl9zdHlsZT11J2RhbmdlcicsIGRlc2NyaXB0aW9uPXUnT3ZlcndyaXRlJywgbGF5b3XigKY=\n"
      ]
     },
     "metadata": {},
     "output_type": "display_data"
    }
   ],
   "source": [
    "%%source tmp/test.py\n",
    "print(\"Python code\")"
   ]
  },
  {
   "cell_type": "markdown",
   "metadata": {},
   "source": [
    "### Load existing file"
   ]
  },
  {
   "cell_type": "code",
   "execution_count": 4,
   "metadata": {},
   "outputs": [],
   "source": [
    "# Uncomment and run, cell contents will be replaced\n",
    "# %loadsource tmp/test.py"
   ]
  },
  {
   "cell_type": "markdown",
   "metadata": {},
   "source": [
    "### Handle magic"
   ]
  },
  {
   "cell_type": "code",
   "execution_count": 5,
   "metadata": {},
   "outputs": [
    {
     "data": {
      "application/vnd.jupyter.widget-view+json": {
       "model_id": "b550f7002ac04ac6a3ff08d4e92f0590",
       "version_major": 2,
       "version_minor": 0
      },
      "text/plain": [
       "RWRpdG9yV2lkZ2V0KGNoaWxkcmVuPShIQm94KGNoaWxkcmVuPShPdXRwdXQoKSwgQnV0dG9uKGJ1dHRvbl9zdHlsZT11J2RhbmdlcicsIGRlc2NyaXB0aW9uPXUnT3ZlcndyaXRlJywgbGF5b3XigKY=\n"
      ]
     },
     "metadata": {},
     "output_type": "display_data"
    }
   ],
   "source": [
    "%%source tmp/test.sh\n",
    "%%time\n",
    "%%bash\n",
    "echo \"bash code\""
   ]
  },
  {
   "cell_type": "code",
   "execution_count": 6,
   "metadata": {},
   "outputs": [
    {
     "name": "stdout",
     "output_type": "stream",
     "text": [
      "echo \"bash code\"\r\n"
     ]
    }
   ],
   "source": [
    "!cat tmp/test.sh"
   ]
  },
  {
   "cell_type": "markdown",
   "metadata": {},
   "source": [
    "### Handle conflicts"
   ]
  },
  {
   "cell_type": "code",
   "execution_count": 7,
   "metadata": {},
   "outputs": [
    {
     "name": "stdout",
     "output_type": "stream",
     "text": [
      "Writing tmp/existing.py\n"
     ]
    }
   ],
   "source": [
    "%%writefile tmp/existing.py\n",
    "print(\"Original contents\")"
   ]
  },
  {
   "cell_type": "code",
   "execution_count": 8,
   "metadata": {},
   "outputs": [
    {
     "data": {
      "application/vnd.jupyter.widget-view+json": {
       "model_id": "5dc6e0e1f50c41fa959e2fa7749e5684",
       "version_major": 2,
       "version_minor": 0
      },
      "text/plain": [
       "RWRpdG9yV2lkZ2V0KGNoaWxkcmVuPShIQm94KGNoaWxkcmVuPShPdXRwdXQoKSwgQnV0dG9uKGJ1dHRvbl9zdHlsZT11J2RhbmdlcicsIGRlc2NyaXB0aW9uPXUnT3ZlcndyaXRlJywgbGF5b3XigKY=\n"
      ]
     },
     "metadata": {},
     "output_type": "display_data"
    }
   ],
   "source": [
    "%%source tmp/existing.py\n",
    "print(\"Different contents\")"
   ]
  },
  {
   "cell_type": "code",
   "execution_count": 9,
   "metadata": {},
   "outputs": [
    {
     "name": "stdout",
     "output_type": "stream",
     "text": [
      "print(\"Original contents\")"
     ]
    }
   ],
   "source": [
    "!cat tmp/existing.py"
   ]
  },
  {
   "cell_type": "markdown",
   "metadata": {},
   "source": [
    "## Monitor file modifications"
   ]
  },
  {
   "cell_type": "code",
   "execution_count": 10,
   "metadata": {},
   "outputs": [
    {
     "data": {
      "application/vnd.jupyter.widget-view+json": {
       "model_id": "8352a60ca26a48a986d00a7f1665cf96",
       "version_major": 2,
       "version_minor": 0
      },
      "text/plain": [
       "RWRpdG9yV2lkZ2V0KGNoaWxkcmVuPShIQm94KGNoaWxkcmVuPShPdXRwdXQoKSwgQnV0dG9uKGJ1dHRvbl9zdHlsZT11J2RhbmdlcicsIGRlc2NyaXB0aW9uPXUnT3ZlcndyaXRlJywgbGF5b3XigKY=\n"
      ]
     },
     "metadata": {},
     "output_type": "display_data"
    }
   ],
   "source": [
    "%%source tmp/modifiable.py\n",
    "print(\"Original contents\")"
   ]
  },
  {
   "cell_type": "code",
   "execution_count": 11,
   "metadata": {},
   "outputs": [],
   "source": [
    "!echo \"print('Modified')\\n\" > tmp/modifiable.py"
   ]
  }
 ],
 "metadata": {
  "kernelspec": {
   "display_name": "Python 2",
   "language": "python",
   "name": "python2"
  },
  "language_info": {
   "codemirror_mode": {
    "name": "ipython",
    "version": 2
   },
   "file_extension": ".py",
   "mimetype": "text/x-python",
   "name": "python",
   "nbconvert_exporter": "python",
   "pygments_lexer": "ipython2",
   "version": "2.7.15"
  }
 },
 "nbformat": 4,
 "nbformat_minor": 2
}
